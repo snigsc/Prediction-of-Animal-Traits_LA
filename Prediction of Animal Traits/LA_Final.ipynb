{
 "cells": [
  {
   "cell_type": "markdown",
   "metadata": {},
   "source": [
    "# LINEAR ALGEBRA - MINI PROJECT\n",
    "***"
   ]
  },
  {
   "cell_type": "markdown",
   "metadata": {},
   "source": [
    "### TOPIC:  Data Analytics + Prediction of animal traits using ANN and SVM,PCA\n",
    "***\n",
    "#### TEAM MEMBERS:\n",
    "Sakshi Shetty, PES1201800190\n",
    "\n",
    "Snigdha S Chenjeri, PES1201800045\n",
    "\n",
    "Sruthy S, PES1201801143\n",
    "\n",
    "**SECTION**: 4C\n",
    "***"
   ]
  },
  {
   "cell_type": "markdown",
   "metadata": {},
   "source": [
    "Importing all necessary libraries:"
   ]
  },
  {
   "cell_type": "code",
   "execution_count": 1,
   "metadata": {},
   "outputs": [
    {
     "name": "stderr",
     "output_type": "stream",
     "text": [
      "Using TensorFlow backend.\n"
     ]
    }
   ],
   "source": [
    "import pandas as pd\n",
    "import seaborn as sns\n",
    "import numpy as np\n",
    "import tensorflow\n",
    "import matplotlib.pyplot as mpl\n",
    "from sklearn import preprocessing as pre\n",
    "from keras.models import Sequential\n",
    "from keras.layers import Dense\n",
    "from sklearn.preprocessing import StandardScaler\n",
    "from sklearn.decomposition import PCA\n",
    "from sklearn.svm import SVC\n",
    "from sklearn.metrics import confusion_matrix"
   ]
  },
  {
   "cell_type": "markdown",
   "metadata": {},
   "source": [
    "Below is the dataset that describes and summarises our actual dataset:"
   ]
  },
  {
   "cell_type": "code",
   "execution_count": 2,
   "metadata": {},
   "outputs": [
    {
     "data": {
      "text/html": [
       "<div>\n",
       "<style scoped>\n",
       "    .dataframe tbody tr th:only-of-type {\n",
       "        vertical-align: middle;\n",
       "    }\n",
       "\n",
       "    .dataframe tbody tr th {\n",
       "        vertical-align: top;\n",
       "    }\n",
       "\n",
       "    .dataframe thead th {\n",
       "        text-align: right;\n",
       "    }\n",
       "</style>\n",
       "<table border=\"1\" class=\"dataframe\">\n",
       "  <thead>\n",
       "    <tr style=\"text-align: right;\">\n",
       "      <th></th>\n",
       "      <th>Class_Number</th>\n",
       "      <th>Number_Of_Animal_Species_In_Class</th>\n",
       "      <th>Class_Type</th>\n",
       "      <th>Animal_Names</th>\n",
       "    </tr>\n",
       "  </thead>\n",
       "  <tbody>\n",
       "    <tr>\n",
       "      <th>0</th>\n",
       "      <td>1</td>\n",
       "      <td>41</td>\n",
       "      <td>Mammal</td>\n",
       "      <td>aardvark, antelope, bear, boar, buffalo, calf,...</td>\n",
       "    </tr>\n",
       "    <tr>\n",
       "      <th>1</th>\n",
       "      <td>2</td>\n",
       "      <td>20</td>\n",
       "      <td>Bird</td>\n",
       "      <td>chicken, crow, dove, duck, flamingo, gull, haw...</td>\n",
       "    </tr>\n",
       "    <tr>\n",
       "      <th>2</th>\n",
       "      <td>3</td>\n",
       "      <td>5</td>\n",
       "      <td>Reptile</td>\n",
       "      <td>pitviper, seasnake, slowworm, tortoise, tuatara</td>\n",
       "    </tr>\n",
       "    <tr>\n",
       "      <th>3</th>\n",
       "      <td>4</td>\n",
       "      <td>13</td>\n",
       "      <td>Fish</td>\n",
       "      <td>bass, carp, catfish, chub, dogfish, haddock, h...</td>\n",
       "    </tr>\n",
       "    <tr>\n",
       "      <th>4</th>\n",
       "      <td>5</td>\n",
       "      <td>4</td>\n",
       "      <td>Amphibian</td>\n",
       "      <td>frog, frog, newt, toad</td>\n",
       "    </tr>\n",
       "    <tr>\n",
       "      <th>5</th>\n",
       "      <td>6</td>\n",
       "      <td>8</td>\n",
       "      <td>Bug</td>\n",
       "      <td>flea, gnat, honeybee, housefly, ladybird, moth...</td>\n",
       "    </tr>\n",
       "    <tr>\n",
       "      <th>6</th>\n",
       "      <td>7</td>\n",
       "      <td>10</td>\n",
       "      <td>Invertebrate</td>\n",
       "      <td>clam, crab, crayfish, lobster, octopus, scorpi...</td>\n",
       "    </tr>\n",
       "  </tbody>\n",
       "</table>\n",
       "</div>"
      ],
      "text/plain": [
       "   Class_Number  Number_Of_Animal_Species_In_Class    Class_Type  \\\n",
       "0             1                                 41        Mammal   \n",
       "1             2                                 20          Bird   \n",
       "2             3                                  5       Reptile   \n",
       "3             4                                 13          Fish   \n",
       "4             5                                  4     Amphibian   \n",
       "5             6                                  8           Bug   \n",
       "6             7                                 10  Invertebrate   \n",
       "\n",
       "                                        Animal_Names  \n",
       "0  aardvark, antelope, bear, boar, buffalo, calf,...  \n",
       "1  chicken, crow, dove, duck, flamingo, gull, haw...  \n",
       "2    pitviper, seasnake, slowworm, tortoise, tuatara  \n",
       "3  bass, carp, catfish, chub, dogfish, haddock, h...  \n",
       "4                             frog, frog, newt, toad  \n",
       "5  flea, gnat, honeybee, housefly, ladybird, moth...  \n",
       "6  clam, crab, crayfish, lobster, octopus, scorpi...  "
      ]
     },
     "execution_count": 2,
     "metadata": {},
     "output_type": "execute_result"
    }
   ],
   "source": [
    "summary = pd.read_csv(\"class.csv\")\n",
    "summary.head(8)"
   ]
  },
  {
   "cell_type": "markdown",
   "metadata": {},
   "source": [
    "***\n",
    "Now we will load **the actual dataset that we will be working on** using the pandas library:"
   ]
  },
  {
   "cell_type": "code",
   "execution_count": 3,
   "metadata": {},
   "outputs": [
    {
     "data": {
      "text/html": [
       "<div>\n",
       "<style scoped>\n",
       "    .dataframe tbody tr th:only-of-type {\n",
       "        vertical-align: middle;\n",
       "    }\n",
       "\n",
       "    .dataframe tbody tr th {\n",
       "        vertical-align: top;\n",
       "    }\n",
       "\n",
       "    .dataframe thead th {\n",
       "        text-align: right;\n",
       "    }\n",
       "</style>\n",
       "<table border=\"1\" class=\"dataframe\">\n",
       "  <thead>\n",
       "    <tr style=\"text-align: right;\">\n",
       "      <th></th>\n",
       "      <th>animal_name</th>\n",
       "      <th>hair</th>\n",
       "      <th>feathers</th>\n",
       "      <th>eggs</th>\n",
       "      <th>milk</th>\n",
       "      <th>airborne</th>\n",
       "      <th>aquatic</th>\n",
       "      <th>predator</th>\n",
       "      <th>toothed</th>\n",
       "      <th>backbone</th>\n",
       "      <th>breathes</th>\n",
       "      <th>venomous</th>\n",
       "      <th>fins</th>\n",
       "      <th>legs</th>\n",
       "      <th>tail</th>\n",
       "      <th>domestic</th>\n",
       "      <th>catsize</th>\n",
       "      <th>class_type</th>\n",
       "    </tr>\n",
       "  </thead>\n",
       "  <tbody>\n",
       "    <tr>\n",
       "      <th>0</th>\n",
       "      <td>aardvark</td>\n",
       "      <td>1</td>\n",
       "      <td>0</td>\n",
       "      <td>0</td>\n",
       "      <td>1</td>\n",
       "      <td>0</td>\n",
       "      <td>0</td>\n",
       "      <td>1</td>\n",
       "      <td>1</td>\n",
       "      <td>1</td>\n",
       "      <td>1</td>\n",
       "      <td>0</td>\n",
       "      <td>0</td>\n",
       "      <td>4</td>\n",
       "      <td>0</td>\n",
       "      <td>0</td>\n",
       "      <td>1</td>\n",
       "      <td>1</td>\n",
       "    </tr>\n",
       "    <tr>\n",
       "      <th>1</th>\n",
       "      <td>antelope</td>\n",
       "      <td>1</td>\n",
       "      <td>0</td>\n",
       "      <td>0</td>\n",
       "      <td>1</td>\n",
       "      <td>0</td>\n",
       "      <td>0</td>\n",
       "      <td>0</td>\n",
       "      <td>1</td>\n",
       "      <td>1</td>\n",
       "      <td>1</td>\n",
       "      <td>0</td>\n",
       "      <td>0</td>\n",
       "      <td>4</td>\n",
       "      <td>1</td>\n",
       "      <td>0</td>\n",
       "      <td>1</td>\n",
       "      <td>1</td>\n",
       "    </tr>\n",
       "    <tr>\n",
       "      <th>2</th>\n",
       "      <td>bass</td>\n",
       "      <td>0</td>\n",
       "      <td>0</td>\n",
       "      <td>1</td>\n",
       "      <td>0</td>\n",
       "      <td>0</td>\n",
       "      <td>1</td>\n",
       "      <td>1</td>\n",
       "      <td>1</td>\n",
       "      <td>1</td>\n",
       "      <td>0</td>\n",
       "      <td>0</td>\n",
       "      <td>1</td>\n",
       "      <td>0</td>\n",
       "      <td>1</td>\n",
       "      <td>0</td>\n",
       "      <td>0</td>\n",
       "      <td>4</td>\n",
       "    </tr>\n",
       "    <tr>\n",
       "      <th>3</th>\n",
       "      <td>bear</td>\n",
       "      <td>1</td>\n",
       "      <td>0</td>\n",
       "      <td>0</td>\n",
       "      <td>1</td>\n",
       "      <td>0</td>\n",
       "      <td>0</td>\n",
       "      <td>1</td>\n",
       "      <td>1</td>\n",
       "      <td>1</td>\n",
       "      <td>1</td>\n",
       "      <td>0</td>\n",
       "      <td>0</td>\n",
       "      <td>4</td>\n",
       "      <td>0</td>\n",
       "      <td>0</td>\n",
       "      <td>1</td>\n",
       "      <td>1</td>\n",
       "    </tr>\n",
       "    <tr>\n",
       "      <th>4</th>\n",
       "      <td>boar</td>\n",
       "      <td>1</td>\n",
       "      <td>0</td>\n",
       "      <td>0</td>\n",
       "      <td>1</td>\n",
       "      <td>0</td>\n",
       "      <td>0</td>\n",
       "      <td>1</td>\n",
       "      <td>1</td>\n",
       "      <td>1</td>\n",
       "      <td>1</td>\n",
       "      <td>0</td>\n",
       "      <td>0</td>\n",
       "      <td>4</td>\n",
       "      <td>1</td>\n",
       "      <td>0</td>\n",
       "      <td>1</td>\n",
       "      <td>1</td>\n",
       "    </tr>\n",
       "  </tbody>\n",
       "</table>\n",
       "</div>"
      ],
      "text/plain": [
       "  animal_name  hair  feathers  eggs  milk  airborne  aquatic  predator  \\\n",
       "0    aardvark     1         0     0     1         0        0         1   \n",
       "1    antelope     1         0     0     1         0        0         0   \n",
       "2        bass     0         0     1     0         0        1         1   \n",
       "3        bear     1         0     0     1         0        0         1   \n",
       "4        boar     1         0     0     1         0        0         1   \n",
       "\n",
       "   toothed  backbone  breathes  venomous  fins  legs  tail  domestic  catsize  \\\n",
       "0        1         1         1         0     0     4     0         0        1   \n",
       "1        1         1         1         0     0     4     1         0        1   \n",
       "2        1         1         0         0     1     0     1         0        0   \n",
       "3        1         1         1         0     0     4     0         0        1   \n",
       "4        1         1         1         0     0     4     1         0        1   \n",
       "\n",
       "   class_type  \n",
       "0           1  \n",
       "1           1  \n",
       "2           4  \n",
       "3           1  \n",
       "4           1  "
      ]
     },
     "execution_count": 3,
     "metadata": {},
     "output_type": "execute_result"
    }
   ],
   "source": [
    "dataset = pd.read_csv(\"zoo-original.csv\")\n",
    "dataset.head(5)\n"
   ]
  },
  {
   "cell_type": "markdown",
   "metadata": {},
   "source": [
    "***\n",
    "## PART 1: Data Analytics\n",
    "Here, we will be perfoming operations on the dataset including preprocessing, cleaning, normalising and visualising to prepare the dataset for our next part - building a machine learning model based on neural networks. This will also help us better understand our dataset so that we can decide which columns we want to predict using our model."
   ]
  },
  {
   "cell_type": "markdown",
   "metadata": {},
   "source": [
    "***\n",
    "Now, we will check for all the negative values in the dataset and replace them with zero:"
   ]
  },
  {
   "cell_type": "code",
   "execution_count": 4,
   "metadata": {},
   "outputs": [
    {
     "data": {
      "text/html": [
       "<div>\n",
       "<style scoped>\n",
       "    .dataframe tbody tr th:only-of-type {\n",
       "        vertical-align: middle;\n",
       "    }\n",
       "\n",
       "    .dataframe tbody tr th {\n",
       "        vertical-align: top;\n",
       "    }\n",
       "\n",
       "    .dataframe thead th {\n",
       "        text-align: right;\n",
       "    }\n",
       "</style>\n",
       "<table border=\"1\" class=\"dataframe\">\n",
       "  <thead>\n",
       "    <tr style=\"text-align: right;\">\n",
       "      <th></th>\n",
       "      <th>animal_name</th>\n",
       "      <th>hair</th>\n",
       "      <th>feathers</th>\n",
       "      <th>eggs</th>\n",
       "      <th>milk</th>\n",
       "      <th>airborne</th>\n",
       "      <th>aquatic</th>\n",
       "      <th>predator</th>\n",
       "      <th>toothed</th>\n",
       "      <th>backbone</th>\n",
       "      <th>breathes</th>\n",
       "      <th>venomous</th>\n",
       "      <th>fins</th>\n",
       "      <th>legs</th>\n",
       "      <th>tail</th>\n",
       "      <th>domestic</th>\n",
       "      <th>catsize</th>\n",
       "      <th>class_type</th>\n",
       "    </tr>\n",
       "  </thead>\n",
       "  <tbody>\n",
       "    <tr>\n",
       "      <th>0</th>\n",
       "      <td>aardvark</td>\n",
       "      <td>1</td>\n",
       "      <td>0</td>\n",
       "      <td>0</td>\n",
       "      <td>1</td>\n",
       "      <td>0</td>\n",
       "      <td>0</td>\n",
       "      <td>1</td>\n",
       "      <td>1</td>\n",
       "      <td>1</td>\n",
       "      <td>1</td>\n",
       "      <td>0</td>\n",
       "      <td>0</td>\n",
       "      <td>4</td>\n",
       "      <td>0</td>\n",
       "      <td>0</td>\n",
       "      <td>1</td>\n",
       "      <td>1</td>\n",
       "    </tr>\n",
       "    <tr>\n",
       "      <th>1</th>\n",
       "      <td>antelope</td>\n",
       "      <td>1</td>\n",
       "      <td>0</td>\n",
       "      <td>0</td>\n",
       "      <td>1</td>\n",
       "      <td>0</td>\n",
       "      <td>0</td>\n",
       "      <td>0</td>\n",
       "      <td>1</td>\n",
       "      <td>1</td>\n",
       "      <td>1</td>\n",
       "      <td>0</td>\n",
       "      <td>0</td>\n",
       "      <td>4</td>\n",
       "      <td>1</td>\n",
       "      <td>0</td>\n",
       "      <td>1</td>\n",
       "      <td>1</td>\n",
       "    </tr>\n",
       "    <tr>\n",
       "      <th>2</th>\n",
       "      <td>bass</td>\n",
       "      <td>0</td>\n",
       "      <td>0</td>\n",
       "      <td>1</td>\n",
       "      <td>0</td>\n",
       "      <td>0</td>\n",
       "      <td>1</td>\n",
       "      <td>1</td>\n",
       "      <td>1</td>\n",
       "      <td>1</td>\n",
       "      <td>0</td>\n",
       "      <td>0</td>\n",
       "      <td>1</td>\n",
       "      <td>0</td>\n",
       "      <td>1</td>\n",
       "      <td>0</td>\n",
       "      <td>0</td>\n",
       "      <td>4</td>\n",
       "    </tr>\n",
       "    <tr>\n",
       "      <th>3</th>\n",
       "      <td>bear</td>\n",
       "      <td>1</td>\n",
       "      <td>0</td>\n",
       "      <td>0</td>\n",
       "      <td>1</td>\n",
       "      <td>0</td>\n",
       "      <td>0</td>\n",
       "      <td>1</td>\n",
       "      <td>1</td>\n",
       "      <td>1</td>\n",
       "      <td>1</td>\n",
       "      <td>0</td>\n",
       "      <td>0</td>\n",
       "      <td>4</td>\n",
       "      <td>0</td>\n",
       "      <td>0</td>\n",
       "      <td>1</td>\n",
       "      <td>1</td>\n",
       "    </tr>\n",
       "    <tr>\n",
       "      <th>4</th>\n",
       "      <td>boar</td>\n",
       "      <td>1</td>\n",
       "      <td>0</td>\n",
       "      <td>0</td>\n",
       "      <td>1</td>\n",
       "      <td>0</td>\n",
       "      <td>0</td>\n",
       "      <td>1</td>\n",
       "      <td>1</td>\n",
       "      <td>1</td>\n",
       "      <td>1</td>\n",
       "      <td>0</td>\n",
       "      <td>0</td>\n",
       "      <td>4</td>\n",
       "      <td>1</td>\n",
       "      <td>0</td>\n",
       "      <td>1</td>\n",
       "      <td>1</td>\n",
       "    </tr>\n",
       "  </tbody>\n",
       "</table>\n",
       "</div>"
      ],
      "text/plain": [
       "  animal_name  hair  feathers  eggs  milk  airborne  aquatic  predator  \\\n",
       "0    aardvark     1         0     0     1         0        0         1   \n",
       "1    antelope     1         0     0     1         0        0         0   \n",
       "2        bass     0         0     1     0         0        1         1   \n",
       "3        bear     1         0     0     1         0        0         1   \n",
       "4        boar     1         0     0     1         0        0         1   \n",
       "\n",
       "   toothed  backbone  breathes  venomous  fins  legs  tail  domestic  catsize  \\\n",
       "0        1         1         1         0     0     4     0         0        1   \n",
       "1        1         1         1         0     0     4     1         0        1   \n",
       "2        1         1         0         0     1     0     1         0        0   \n",
       "3        1         1         1         0     0     4     0         0        1   \n",
       "4        1         1         1         0     0     4     1         0        1   \n",
       "\n",
       "   class_type  \n",
       "0           1  \n",
       "1           1  \n",
       "2           4  \n",
       "3           1  \n",
       "4           1  "
      ]
     },
     "execution_count": 4,
     "metadata": {},
     "output_type": "execute_result"
    }
   ],
   "source": [
    "num = dataset._get_numeric_data()\n",
    "num[num < 0] = 0\n",
    "dataset.head(5)"
   ]
  },
  {
   "cell_type": "markdown",
   "metadata": {},
   "source": [
    "As you can see from comparing it to the original dataset, there are no longer any negative values."
   ]
  },
  {
   "cell_type": "markdown",
   "metadata": {},
   "source": [
    "***\n",
    "Next, we will replace missing values and values which aren't numerical (NaN) with zero:"
   ]
  },
  {
   "cell_type": "code",
   "execution_count": 5,
   "metadata": {},
   "outputs": [
    {
     "data": {
      "text/html": [
       "<div>\n",
       "<style scoped>\n",
       "    .dataframe tbody tr th:only-of-type {\n",
       "        vertical-align: middle;\n",
       "    }\n",
       "\n",
       "    .dataframe tbody tr th {\n",
       "        vertical-align: top;\n",
       "    }\n",
       "\n",
       "    .dataframe thead th {\n",
       "        text-align: right;\n",
       "    }\n",
       "</style>\n",
       "<table border=\"1\" class=\"dataframe\">\n",
       "  <thead>\n",
       "    <tr style=\"text-align: right;\">\n",
       "      <th></th>\n",
       "      <th>animal_name</th>\n",
       "      <th>hair</th>\n",
       "      <th>feathers</th>\n",
       "      <th>eggs</th>\n",
       "      <th>milk</th>\n",
       "      <th>airborne</th>\n",
       "      <th>aquatic</th>\n",
       "      <th>predator</th>\n",
       "      <th>toothed</th>\n",
       "      <th>backbone</th>\n",
       "      <th>breathes</th>\n",
       "      <th>venomous</th>\n",
       "      <th>fins</th>\n",
       "      <th>legs</th>\n",
       "      <th>tail</th>\n",
       "      <th>domestic</th>\n",
       "      <th>catsize</th>\n",
       "      <th>class_type</th>\n",
       "    </tr>\n",
       "  </thead>\n",
       "  <tbody>\n",
       "    <tr>\n",
       "      <th>0</th>\n",
       "      <td>aardvark</td>\n",
       "      <td>1</td>\n",
       "      <td>0</td>\n",
       "      <td>0</td>\n",
       "      <td>1</td>\n",
       "      <td>0</td>\n",
       "      <td>0</td>\n",
       "      <td>1</td>\n",
       "      <td>1</td>\n",
       "      <td>1</td>\n",
       "      <td>1</td>\n",
       "      <td>0</td>\n",
       "      <td>0</td>\n",
       "      <td>4</td>\n",
       "      <td>0</td>\n",
       "      <td>0</td>\n",
       "      <td>1</td>\n",
       "      <td>1</td>\n",
       "    </tr>\n",
       "    <tr>\n",
       "      <th>1</th>\n",
       "      <td>antelope</td>\n",
       "      <td>1</td>\n",
       "      <td>0</td>\n",
       "      <td>0</td>\n",
       "      <td>1</td>\n",
       "      <td>0</td>\n",
       "      <td>0</td>\n",
       "      <td>0</td>\n",
       "      <td>1</td>\n",
       "      <td>1</td>\n",
       "      <td>1</td>\n",
       "      <td>0</td>\n",
       "      <td>0</td>\n",
       "      <td>4</td>\n",
       "      <td>1</td>\n",
       "      <td>0</td>\n",
       "      <td>1</td>\n",
       "      <td>1</td>\n",
       "    </tr>\n",
       "    <tr>\n",
       "      <th>2</th>\n",
       "      <td>bass</td>\n",
       "      <td>0</td>\n",
       "      <td>0</td>\n",
       "      <td>1</td>\n",
       "      <td>0</td>\n",
       "      <td>0</td>\n",
       "      <td>1</td>\n",
       "      <td>1</td>\n",
       "      <td>1</td>\n",
       "      <td>1</td>\n",
       "      <td>0</td>\n",
       "      <td>0</td>\n",
       "      <td>1</td>\n",
       "      <td>0</td>\n",
       "      <td>1</td>\n",
       "      <td>0</td>\n",
       "      <td>0</td>\n",
       "      <td>4</td>\n",
       "    </tr>\n",
       "    <tr>\n",
       "      <th>3</th>\n",
       "      <td>bear</td>\n",
       "      <td>1</td>\n",
       "      <td>0</td>\n",
       "      <td>0</td>\n",
       "      <td>1</td>\n",
       "      <td>0</td>\n",
       "      <td>0</td>\n",
       "      <td>1</td>\n",
       "      <td>1</td>\n",
       "      <td>1</td>\n",
       "      <td>1</td>\n",
       "      <td>0</td>\n",
       "      <td>0</td>\n",
       "      <td>4</td>\n",
       "      <td>0</td>\n",
       "      <td>0</td>\n",
       "      <td>1</td>\n",
       "      <td>1</td>\n",
       "    </tr>\n",
       "    <tr>\n",
       "      <th>4</th>\n",
       "      <td>boar</td>\n",
       "      <td>1</td>\n",
       "      <td>0</td>\n",
       "      <td>0</td>\n",
       "      <td>1</td>\n",
       "      <td>0</td>\n",
       "      <td>0</td>\n",
       "      <td>1</td>\n",
       "      <td>1</td>\n",
       "      <td>1</td>\n",
       "      <td>1</td>\n",
       "      <td>0</td>\n",
       "      <td>0</td>\n",
       "      <td>4</td>\n",
       "      <td>1</td>\n",
       "      <td>0</td>\n",
       "      <td>1</td>\n",
       "      <td>1</td>\n",
       "    </tr>\n",
       "  </tbody>\n",
       "</table>\n",
       "</div>"
      ],
      "text/plain": [
       "  animal_name  hair  feathers  eggs  milk  airborne  aquatic  predator  \\\n",
       "0    aardvark     1         0     0     1         0        0         1   \n",
       "1    antelope     1         0     0     1         0        0         0   \n",
       "2        bass     0         0     1     0         0        1         1   \n",
       "3        bear     1         0     0     1         0        0         1   \n",
       "4        boar     1         0     0     1         0        0         1   \n",
       "\n",
       "   toothed  backbone  breathes  venomous  fins  legs  tail  domestic  catsize  \\\n",
       "0        1         1         1         0     0     4     0         0        1   \n",
       "1        1         1         1         0     0     4     1         0        1   \n",
       "2        1         1         0         0     1     0     1         0        0   \n",
       "3        1         1         1         0     0     4     0         0        1   \n",
       "4        1         1         1         0     0     4     1         0        1   \n",
       "\n",
       "   class_type  \n",
       "0           1  \n",
       "1           1  \n",
       "2           4  \n",
       "3           1  \n",
       "4           1  "
      ]
     },
     "execution_count": 5,
     "metadata": {},
     "output_type": "execute_result"
    }
   ],
   "source": [
    "dataset = dataset.fillna(0)\n",
    "dataset.head(5)"
   ]
  },
  {
   "cell_type": "markdown",
   "metadata": {},
   "source": [
    "As you can see, there are no longer NaNs in the dataset since they have been replaced by zero."
   ]
  },
  {
   "cell_type": "markdown",
   "metadata": {},
   "source": [
    "***\n",
    "#### GRAPH VISUALIZATION\n",
    "**Note:** Refer to our ppt for detailed inferences on each one of the visualtions and graphs below.\n",
    "***"
   ]
  },
  {
   "cell_type": "code",
   "execution_count": 6,
   "metadata": {},
   "outputs": [],
   "source": [
    "#SETTING THE COLOUR THEME FOR THE GRAPHS\n",
    "\n",
    "sns.set()\n",
    "%matplotlib inline\n",
    "pkmn_type_colors = ['#78C850',  # Grass\n",
    "                    '#F08030',  # Fire\n",
    "                    '#6890F0',  # Water\n",
    "                    '#A8B820',  # Bug\n",
    "                    '#A8A878',  # Normal\n",
    "                    '#A040A0',  # Poison\n",
    "                    '#F8D030',  # Electric\n",
    "                    '#E0C068',  # Ground\n",
    "                    '#EE99AC',  # Fairy\n",
    "                    '#C03028',  # Fighting\n",
    "                    '#F85888',  # Psychic\n",
    "                    '#B8A038',  # Rock\n",
    "                    '#705898',  # Ghost\n",
    "                    '#98D8D8',  # Ice\n",
    "                    '#7038F8',  # Dragon\n",
    "                   ]"
   ]
  },
  {
   "cell_type": "markdown",
   "metadata": {},
   "source": [
    "***\n",
    "#### Swarm Plot\n",
    "\n",
    "Below is as warm plot that indicates how many venomous animals there for each type of animal based on whether they are a predator or not:"
   ]
  },
  {
   "cell_type": "code",
   "execution_count": 7,
   "metadata": {},
   "outputs": [
    {
     "data": {
      "text/plain": [
       "<seaborn.axisgrid.FacetGrid at 0x193c3b78fc8>"
      ]
     },
     "execution_count": 7,
     "metadata": {},
     "output_type": "execute_result"
    },
    {
     "data": {
      "image/png": "[encoded data removed]",
      "text/plain": [
       "<Figure size 720x360 with 2 Axes>"
      ]
     },
     "metadata": {},
     "output_type": "display_data"
    }
   ],
   "source": [
    "sns.set(rc={'figure.figsize':(30,30)})\n",
    "sns.catplot(x = 'class_type', \n",
    "                   y = 'venomous', \n",
    "                   data = dataset, \n",
    "                   hue = 'predator',  # Color by stage\n",
    "                   col = 'predator',  # Separate by stage\n",
    "                   kind = 'swarm')   # Swarmplot\n",
    "\n",
    "#DOUBLE TAP THE GRAPH TO ENLARGE AND SCROLL"
   ]
  },
  {
   "cell_type": "markdown",
   "metadata": {},
   "source": [
    "***\n",
    "**Pie Chart**\n",
    "Below is a pie chart showing the percentage of animals belonging to each class:"
   ]
  },
  {
   "cell_type": "code",
   "execution_count": 8,
   "metadata": {},
   "outputs": [
    {
     "data": {
      "image/png": "[encoded data removed]",
      "text/plain": [
       "<Figure size 2160x2160 with 1 Axes>"
      ]
     },
     "metadata": {},
     "output_type": "display_data"
    }
   ],
   "source": [
    "class1 = dataset.apply(lambda x: True if x['class_type'] == 1 else False , axis=1)\n",
    "num_mammals = len(class1[class1 == True].index)\n",
    "\n",
    "class2 = dataset.apply(lambda x: True if x['class_type'] == 2 else False , axis=1)\n",
    "num_birds = len(class2[class2 == True].index)\n",
    "\n",
    "class3 = dataset.apply(lambda x: True if x['class_type'] == 3 else False , axis=1)\n",
    "num_reptiles = len(class3[class3 == True].index)\n",
    "\n",
    "class4 = dataset.apply(lambda x: True if x['class_type'] == 4 else False , axis=1)\n",
    "num_fish = len(class4[class4 == True].index)\n",
    "\n",
    "class5 = dataset.apply(lambda x: True if x['class_type'] == 5 else False , axis=1)\n",
    "num_amphibians = len(class5[class5 == True].index)\n",
    "\n",
    "class6 = dataset.apply(lambda x: True if x['class_type'] == 6 else False , axis=1)\n",
    "num_bugs = len(class6[class6 == True].index)\n",
    "\n",
    "class7 = dataset.apply(lambda x: True if x['class_type'] == 7 else False , axis=1)\n",
    "num_invertebrates = len(class7[class7 == True].index)\n",
    "\n",
    "c = ['#ffde59','#005dd8','#7ed957','#03989e','#ff5757','#5ce1e6','#a6097f']\n",
    "e = (0.1, 0.0, 0.0, 0.0, 0.0, 0.0, 0.0)\n",
    "\n",
    "my_data = [num_mammals, num_birds, num_reptiles, num_fish, num_amphibians, num_bugs, num_invertebrates]\n",
    "my_labels = 'Mammals','Birds','Reptiles','Fish','Amphibians','Bugs','Invertebrates'\n",
    "mpl.pie(my_data, \n",
    "        labels = my_labels, \n",
    "        autopct='%1.1f%%',\n",
    "        radius = 0.7,\n",
    "        textprops={'fontsize': 30},\n",
    "        startangle = 90,\n",
    "        labeldistance = 1.07,\n",
    "        shadow = True,\n",
    "        colors = c,\n",
    "        rotatelabels = True,\n",
    "        explode = e\n",
    "       )\n",
    "mpl.title('Classification of Animals into different Classes',fontsize = 28)\n",
    "#mpl.axis('scaled')\n",
    "mpl.show()"
   ]
  },
  {
   "cell_type": "markdown",
   "metadata": {},
   "source": [
    "***\n",
    "#### Correlation Matrix\n",
    "Below is a correlation matrix amongst relevant columns of the dataset:"
   ]
  },
  {
   "cell_type": "code",
   "execution_count": 9,
   "metadata": {},
   "outputs": [
    {
     "data": {
      "text/plain": [
       "<matplotlib.axes._subplots.AxesSubplot at 0x193c3ee9588>"
      ]
     },
     "execution_count": 9,
     "metadata": {},
     "output_type": "execute_result"
    },
    {
     "data": {
      "image/png": "[encoded data removed]",
      "text/plain": [
       "<Figure size 849.6x720 with 2 Axes>"
      ]
     },
     "metadata": {},
     "output_type": "display_data"
    }
   ],
   "source": [
    "sns.set(rc={'figure.figsize':(11.8,10)})\n",
    "df = dataset.drop(['hair','feathers','eggs','milk','breathes','fins','legs','tail','catsize','class_type'],axis=1)\n",
    "cor_data = df\n",
    "cor_matrix = cor_data.corr()\n",
    "mask = np.triu(np.ones_like(cor_matrix, dtype=np.bool))\n",
    "sns.heatmap(cor_matrix,mask=mask,linewidth=0.3)"
   ]
  },
  {
   "cell_type": "markdown",
   "metadata": {},
   "source": [
    "(Note: As mentioned earlier, refer to ppt for our detailed inference from this matrix)\n",
    "***"
   ]
  },
  {
   "cell_type": "markdown",
   "metadata": {},
   "source": [
    "#### NORMALIZATION\n",
    "Below is a normalised plot of the data"
   ]
  },
  {
   "cell_type": "code",
   "execution_count": 10,
   "metadata": {},
   "outputs": [
    {
     "data": {
      "text/plain": [
       "<matplotlib.axes._subplots.AxesSubplot at 0x193c4345e48>"
      ]
     },
     "execution_count": 10,
     "metadata": {},
     "output_type": "execute_result"
    },
    {
     "data": {
      "image/png": "[encoded data removed]",
      "text/plain": [
       "<Figure size 849.6x720 with 1 Axes>"
      ]
     },
     "metadata": {},
     "output_type": "display_data"
    }
   ],
   "source": [
    "x_array = np.array(dataset['class_type'])\n",
    "normalized_X = pre.normalize([x_array])\n",
    "\n",
    "# Distribution Plot (a.k.a. Histogram)\n",
    "sns.distplot(normalized_X)"
   ]
  },
  {
   "cell_type": "markdown",
   "metadata": {},
   "source": [
    "***\n",
    "## PART 2: Artificial Neural Networks\n",
    "This part deals with the crux of our project - we will be using various activation methods to make three models - for predicting if the animals are venomous, predators and domestic and for checking the class type they belong to. For each model, we have used different activation methods so that we can compare their accuracy rates.\n",
    "***"
   ]
  },
  {
   "cell_type": "code",
   "execution_count": 11,
   "metadata": {},
   "outputs": [],
   "source": [
    "mldata = dataset.drop(columns=['animal_name']) #dropping the string column"
   ]
  },
  {
   "cell_type": "markdown",
   "metadata": {},
   "source": [
    "### 1. Predicting if an animal is VENOMOUS:"
   ]
  },
  {
   "cell_type": "code",
   "execution_count": 12,
   "metadata": {},
   "outputs": [],
   "source": [
    "seed = 42\n",
    "np.random.seed(seed)"
   ]
  },
  {
   "cell_type": "code",
   "execution_count": 13,
   "metadata": {},
   "outputs": [],
   "source": [
    "d1 = mldata.drop(columns=['venomous'])\n",
    "t1 = mldata[['venomous']]\n",
    "xtrain1 = d1[1: int(0.8*len(d1))]\n",
    "ytrain1 = t1[1:int(0.8*len(t1))]"
   ]
  },
  {
   "cell_type": "code",
   "execution_count": 14,
   "metadata": {},
   "outputs": [],
   "source": [
    "xtest1 = d1[int((0.8*len(d1))): ]\n",
    "ytest1 = t1[int((0.8*len(d1))): ]"
   ]
  },
  {
   "cell_type": "markdown",
   "metadata": {},
   "source": [
    "For this model, we will use **SIGMOID** as the primary activation method:"
   ]
  },
  {
   "cell_type": "code",
   "execution_count": 15,
   "metadata": {},
   "outputs": [],
   "source": [
    "model1 = Sequential()\n",
    "n = d1.shape[1]  #number of columns in training data\n",
    "\n",
    "model1.add(Dense(250, activation='relu', input_shape=(n,)))\n",
    "model1.add(Dense(250, activation='relu'))\n",
    "model1.add(Dense(250, activation='relu'))\n",
    "model1.add(Dense(2, activation='sigmoid'))\n",
    "#accuracy seems to vary vastly based on the usage of sigmoid or relu or softmax\n",
    "model1.compile(optimizer = 'adam', loss = 'sparse_categorical_crossentropy',\n",
    "             metrics = ['accuracy'])"
   ]
  },
  {
   "cell_type": "code",
   "execution_count": 16,
   "metadata": {},
   "outputs": [
    {
     "name": "stdout",
     "output_type": "stream",
     "text": [
      "Epoch 1/10\n",
      "79/79 [==============================] - 0s 3ms/step - loss: 0.5464 - accuracy: 0.9241\n",
      "Epoch 2/10\n",
      "79/79 [==============================] - 0s 152us/step - loss: 0.3565 - accuracy: 0.9241\n",
      "Epoch 3/10\n",
      "79/79 [==============================] - 0s 152us/step - loss: 0.3528 - accuracy: 0.9241\n",
      "Epoch 4/10\n",
      "79/79 [==============================] - 0s 101us/step - loss: 0.3173 - accuracy: 0.9241\n",
      "Epoch 5/10\n",
      "79/79 [==============================] - 0s 152us/step - loss: 0.2778 - accuracy: 0.9241\n",
      "Epoch 6/10\n",
      "79/79 [==============================] - 0s 101us/step - loss: 0.2347 - accuracy: 0.9241\n",
      "Epoch 7/10\n",
      "79/79 [==============================] - 0s 152us/step - loss: 0.2240 - accuracy: 0.9241\n",
      "Epoch 8/10\n",
      "79/79 [==============================] - 0s 304us/step - loss: 0.2014 - accuracy: 0.9241\n",
      "Epoch 9/10\n",
      "79/79 [==============================] - 0s 152us/step - loss: 0.1878 - accuracy: 0.9241\n",
      "Epoch 10/10\n",
      "79/79 [==============================] - 0s 152us/step - loss: 0.1840 - accuracy: 0.9241\n"
     ]
    },
    {
     "data": {
      "text/plain": [
       "<keras.callbacks.callbacks.History at 0x193c4151388>"
      ]
     },
     "execution_count": 16,
     "metadata": {},
     "output_type": "execute_result"
    }
   ],
   "source": [
    "model1.fit(xtrain1, ytrain1, epochs=10)"
   ]
  },
  {
   "cell_type": "markdown",
   "metadata": {},
   "source": [
    "**Overall accuracy:** displayed in the last epoch."
   ]
  },
  {
   "cell_type": "markdown",
   "metadata": {},
   "source": [
    "***\n",
    "### 2. Predicting if an animal is a PREDATOR:"
   ]
  },
  {
   "cell_type": "code",
   "execution_count": 17,
   "metadata": {},
   "outputs": [],
   "source": [
    "seed = 43\n",
    "np.random.seed(seed)"
   ]
  },
  {
   "cell_type": "code",
   "execution_count": 18,
   "metadata": {},
   "outputs": [],
   "source": [
    "d2 = mldata.drop(columns=['predator'])\n",
    "t2 = mldata[['predator']]\n",
    "xtrain2 = d2[1: int(0.8*len(d2))]\n",
    "ytrain2 = t2[1:int(0.8*len(t2))]"
   ]
  },
  {
   "cell_type": "code",
   "execution_count": 19,
   "metadata": {},
   "outputs": [],
   "source": [
    "xtest2 = d2[int((0.8*len(d2))): ]\n",
    "ytest2 = t2[int((0.8*len(d2))): ]"
   ]
  },
  {
   "cell_type": "markdown",
   "metadata": {},
   "source": [
    "For this model, we will use **SOFTMAX** as the primary activation method:"
   ]
  },
  {
   "cell_type": "code",
   "execution_count": 20,
   "metadata": {},
   "outputs": [],
   "source": [
    "model2 = Sequential()\n",
    "n = d2.shape[1]  #number of columns in training data\n",
    "\n",
    "model2.add(Dense(250, activation='relu', input_shape=(n,)))\n",
    "model2.add(Dense(250, activation='relu'))\n",
    "model2.add(Dense(250, activation='relu'))\n",
    "model2.add(Dense(2, activation='softmax'))\n",
    "#accuracy seems to vary vastly based on the usage of sigmoid or relu or softmax\n",
    "model2.compile(optimizer = 'adam', loss = 'sparse_categorical_crossentropy',\n",
    "             metrics = ['accuracy'])"
   ]
  },
  {
   "cell_type": "code",
   "execution_count": 21,
   "metadata": {},
   "outputs": [
    {
     "name": "stdout",
     "output_type": "stream",
     "text": [
      "Epoch 1/10\n",
      "79/79 [==============================] - 0s 2ms/step - loss: 0.6917 - accuracy: 0.5190\n",
      "Epoch 2/10\n",
      "79/79 [==============================] - 0s 152us/step - loss: 0.6319 - accuracy: 0.6076\n",
      "Epoch 3/10\n",
      "79/79 [==============================] - 0s 152us/step - loss: 0.6187 - accuracy: 0.6076\n",
      "Epoch 4/10\n",
      "79/79 [==============================] - 0s 152us/step - loss: 0.5833 - accuracy: 0.6962\n",
      "Epoch 5/10\n",
      "79/79 [==============================] - 0s 354us/step - loss: 0.5666 - accuracy: 0.6962\n",
      "Epoch 6/10\n",
      "79/79 [==============================] - 0s 152us/step - loss: 0.5695 - accuracy: 0.6582\n",
      "Epoch 7/10\n",
      "79/79 [==============================] - 0s 152us/step - loss: 0.5276 - accuracy: 0.7342\n",
      "Epoch 8/10\n",
      "79/79 [==============================] - 0s 101us/step - loss: 0.5251 - accuracy: 0.7215\n",
      "Epoch 9/10\n",
      "79/79 [==============================] - 0s 202us/step - loss: 0.5111 - accuracy: 0.7722\n",
      "Epoch 10/10\n",
      "79/79 [==============================] - 0s 152us/step - loss: 0.4757 - accuracy: 0.7722\n"
     ]
    },
    {
     "data": {
      "text/plain": [
       "<keras.callbacks.callbacks.History at 0x193c49f3208>"
      ]
     },
     "execution_count": 21,
     "metadata": {},
     "output_type": "execute_result"
    }
   ],
   "source": [
    "model2.fit(xtrain2, ytrain2, epochs=10)"
   ]
  },
  {
   "cell_type": "markdown",
   "metadata": {},
   "source": [
    "**Overall accuracy:** displayed in the last epoch."
   ]
  },
  {
   "cell_type": "markdown",
   "metadata": {},
   "source": [
    "***\n",
    "### 3. Predicting if an animal is DOMESTIC:"
   ]
  },
  {
   "cell_type": "code",
   "execution_count": 22,
   "metadata": {},
   "outputs": [],
   "source": [
    "seed = 44\n",
    "np.random.seed(seed)"
   ]
  },
  {
   "cell_type": "code",
   "execution_count": 23,
   "metadata": {},
   "outputs": [],
   "source": [
    "d3 = mldata.drop(columns=['domestic'])\n",
    "t3 = mldata[['domestic']]\n",
    "xtrain3 = d3[1: int(0.8*len(d3))]\n",
    "ytrain3 = t3[1:int(0.8*len(t3))]"
   ]
  },
  {
   "cell_type": "code",
   "execution_count": 24,
   "metadata": {},
   "outputs": [],
   "source": [
    "xtest3 = d3[int((0.8*len(d3))): ]\n",
    "ytest3 = t3[int((0.8*len(d3))): ]"
   ]
  },
  {
   "cell_type": "markdown",
   "metadata": {},
   "source": [
    "For this model, we will use **TANH** as the primary activation method:"
   ]
  },
  {
   "cell_type": "code",
   "execution_count": 25,
   "metadata": {},
   "outputs": [],
   "source": [
    "model3 = Sequential()\n",
    "n = d3.shape[1]  #number of columns in training data\n",
    "\n",
    "model3.add(Dense(250, activation='relu', input_shape=(n,)))\n",
    "model3.add(Dense(250, activation='relu'))\n",
    "model3.add(Dense(250, activation='relu'))\n",
    "model3.add(Dense(2, activation='tanh'))\n",
    "#accuracy seems to vary vastly based on the usage of sigmoid or relu or softmax\n",
    "model3.compile(optimizer = 'adam', loss = 'sparse_categorical_crossentropy',\n",
    "             metrics = ['accuracy'])"
   ]
  },
  {
   "cell_type": "code",
   "execution_count": 26,
   "metadata": {},
   "outputs": [
    {
     "name": "stdout",
     "output_type": "stream",
     "text": [
      "Epoch 1/10\n",
      "79/79 [==============================] - 0s 2ms/step - loss: 0.6809 - accuracy: 0.5823\n",
      "Epoch 2/10\n",
      "79/79 [==============================] - 0s 152us/step - loss: 0.7085 - accuracy: 0.7215\n",
      "Epoch 3/10\n",
      "79/79 [==============================] - 0s 152us/step - loss: 0.6185 - accuracy: 0.8354\n",
      "Epoch 4/10\n",
      "79/79 [==============================] - 0s 152us/step - loss: 1.0884 - accuracy: 0.8354\n",
      "Epoch 5/10\n",
      "79/79 [==============================] - 0s 354us/step - loss: 1.3969 - accuracy: 0.8354\n",
      "Epoch 6/10\n",
      "79/79 [==============================] - 0s 101us/step - loss: 1.3960 - accuracy: 0.8354\n",
      "Epoch 7/10\n",
      "79/79 [==============================] - 0s 152us/step - loss: 1.3908 - accuracy: 0.8354\n",
      "Epoch 8/10\n",
      "79/79 [==============================] - 0s 152us/step - loss: 1.4054 - accuracy: 0.8354\n",
      "Epoch 9/10\n",
      "79/79 [==============================] - 0s 152us/step - loss: 1.4059 - accuracy: 0.8354\n",
      "Epoch 10/10\n",
      "79/79 [==============================] - 0s 152us/step - loss: 1.3831 - accuracy: 0.8354\n"
     ]
    },
    {
     "data": {
      "text/plain": [
       "<keras.callbacks.callbacks.History at 0x193c4f43988>"
      ]
     },
     "execution_count": 26,
     "metadata": {},
     "output_type": "execute_result"
    }
   ],
   "source": [
    "model3.fit(xtrain3, ytrain3, epochs=10)"
   ]
  },
  {
   "cell_type": "markdown",
   "metadata": {},
   "source": [
    "**Overall accuracy:** displayed in the last epoch.\n",
    "***"
   ]
  },
  {
   "cell_type": "markdown",
   "metadata": {},
   "source": [
    "In conclusion, **sigmoid** function seems to result in the highest accuracy amongst the three activation functions used.\n",
    "***"
   ]
  },
  {
   "cell_type": "markdown",
   "metadata": {},
   "source": [
    "### 3. Predicting the CLASS TYPE of an animal:"
   ]
  },
  {
   "cell_type": "code",
   "execution_count": 27,
   "metadata": {},
   "outputs": [
    {
     "name": "stdout",
     "output_type": "stream",
     "text": [
      "WARNING:tensorflow:From C:\\Users\\HP\\Anaconda3\\envs\\tf\\lib\\site-packages\\tensorflow_core\\python\\compat\\v2_compat.py:88: disable_resource_variables (from tensorflow.python.ops.variable_scope) is deprecated and will be removed in a future version.\n",
      "Instructions for updating:\n",
      "non-resource variables are not supported in the long term\n",
      "WARNING:tensorflow:From <ipython-input-27-ebbe7ecb126e>:75: softmax_cross_entropy_with_logits (from tensorflow.python.ops.nn_ops) is deprecated and will be removed in a future version.\n",
      "Instructions for updating:\n",
      "\n",
      "Future major versions of TensorFlow will allow gradients to flow\n",
      "into the labels input on backprop by default.\n",
      "\n",
      "See `tf.nn.softmax_cross_entropy_with_logits_v2`.\n",
      "\n",
      "Accuracy: 0.9375\n"
     ]
    }
   ],
   "source": [
    "import os\n",
    "os.environ[\"TF_CPP_MIN_LOG_LEVEL\"]='2'\n",
    "\n",
    "import tensorflow.compat.v1 as tf\n",
    "tf.disable_v2_behavior()\n",
    "\n",
    "def label_encode(label):\n",
    "    val = []\n",
    "    if label==\"1\":\n",
    "        val = [1,0,0,0,0,0,0]\n",
    "    elif label==\"2\":\n",
    "        val = [0,1,0,0,0,0,0]\n",
    "    elif label==\"3\":\n",
    "        val = [0,0,1,0,0,0,0]\n",
    "    elif label==\"4\":\n",
    "        val = [0,0,0,1,0,0,0]\n",
    "    elif label==\"5\":\n",
    "        val = [0,0,0,0,1,0,0]\n",
    "    elif label==\"6\":\n",
    "        val = [0,0,0,0,0,1,0]\n",
    "    elif label==\"7\":\n",
    "        val = [0,0,0,0,0,0,1]\n",
    "    return val   \n",
    "    \n",
    "    \n",
    "def data_encode(file):\n",
    "\tX = []\n",
    "\tY = []\n",
    "\ttrain_file = open(file, 'r')\n",
    "\tfor line in train_file.read().strip().split('\\n'):\n",
    "\t\tline = line.split(',')\n",
    "\t\tX.append([line[1], line[2], line[3], line[4], line[5], line[6], line[7], line[8], line[9], line[10], line[11], line[12], line[13], line[14], line[15], line[16]])\n",
    "\t\tY.append(label_encode(line[17]))\n",
    "\treturn X, Y\n",
    "\n",
    "#Define a Multilayer Perceptron Model\n",
    "def model(x, weights, bias):\n",
    "\tlayer_1 = tf.add(tf.matmul(x, weights[\"hidden\"]), bias[\"hidden\"])\n",
    "\tlayer_1 = tf.nn.relu(layer_1)\n",
    "\n",
    "\toutput_layer = tf.matmul(layer_1, weights[\"output\"]) + bias[\"output\"]\n",
    "\treturn output_layer\n",
    "\n",
    "#Define Training and Testing Data\n",
    "train_X , train_Y = data_encode('zoo_train.csv')\n",
    "test_X , test_Y = data_encode('zoo_test.csv')\n",
    "\n",
    "\n",
    "#Parameters\n",
    "learning_rate = 0.01\n",
    "training_epochs = 100\n",
    "display_steps = 1000\n",
    "\n",
    "\n",
    "#Network parameters\n",
    "n_input = 16\n",
    "n_hidden = 10\n",
    "n_output = 7\n",
    "\n",
    "#Graph Nodes\n",
    "X = tf.placeholder(\"float\", [None, n_input])\n",
    "Y = tf.placeholder(\"float\", [None, n_output])\n",
    "\t\t\n",
    "#Define Weights and Biases\n",
    "weights = {\"hidden\" : tf.Variable(tf.random_normal([n_input, n_hidden]), name=\"weight_hidden\"),\n",
    "\t       \"output\" : tf.Variable(tf.random_normal([n_hidden, n_output]), name=\"weight_output\")}\n",
    "\n",
    "bias = {\"hidden\" : tf.Variable(tf.random_normal([n_hidden]), name=\"bias_hidden\"),\n",
    "        \"output\" : tf.Variable(tf.random_normal([n_output]), name=\"bias_output\")}\t\n",
    "\n",
    "#Define model\n",
    "pred = model(X, weights, bias) \n",
    "\n",
    "#Define cost function and optimizer\n",
    "cost = tf.reduce_mean(tf.nn.softmax_cross_entropy_with_logits(logits=pred, labels=Y))\n",
    "optimizer = tf.train.AdamOptimizer(learning_rate).minimize(cost)\n",
    "\n",
    "#Initialize global variables\n",
    "init = tf.global_variables_initializer()\n",
    "\n",
    "#Run the model\n",
    "with tf.Session() as sess:\n",
    "\tsess.run(init)\n",
    "\n",
    "\tfor epoch in range(training_epochs):\n",
    "\t\t_, c = sess.run([optimizer, cost], feed_dict={X: train_X, Y: train_Y})\n",
    "\t\tif(epoch + 1) % display_steps == 0:\n",
    "\t\t\tprint (\"Epoch: \", (epoch+1), \"Cost: \", c)\n",
    "\t\n",
    "\ttest_result = sess.run(pred, feed_dict={X: train_X})\n",
    "\tcorrect_pred = tf.equal(tf.argmax(test_result, 1), tf.argmax(train_Y, 1))\n",
    "\n",
    "\taccuracy = tf.reduce_mean(tf.cast(correct_pred, \"float\"))\n",
    "\tprint (\"Accuracy:\", accuracy.eval({X: test_X, Y: test_Y}))"
   ]
  },
  {
   "cell_type": "markdown",
   "metadata": {},
   "source": [
    "***\n",
    "## PART 2: SVM and PCA approach\n",
    "This is another approach at predicting data. However we will be using concepts of support vector machine and principal component analysis to predict values.\n",
    "***"
   ]
  },
  {
   "cell_type": "code",
   "execution_count": 28,
   "metadata": {},
   "outputs": [],
   "source": [
    "mldata = dataset.drop(columns=['animal_name']) #dropping the string column"
   ]
  },
  {
   "cell_type": "markdown",
   "metadata": {},
   "source": [
    "***\n",
    "### 3. Predicting if an animal is VENOMOUS:"
   ]
  },
  {
   "cell_type": "code",
   "execution_count": 31,
   "metadata": {},
   "outputs": [],
   "source": [
    "d1 = mldata.drop(columns=['venomous'])\n",
    "t1 = mldata[['venomous']]\n",
    "xtrain1 = d1[1: int(0.8*len(d1))]\n",
    "ytrain1 = t1[1:int(0.8*len(t1))]\n",
    "xtest1 = d1[int((0.8*len(d1))): ]\n",
    "ytest1 = t1[int((0.8*len(d1))): ]\n"
   ]
  },
  {
   "cell_type": "code",
   "execution_count": 34,
   "metadata": {},
   "outputs": [
    {
     "name": "stdout",
     "output_type": "stream",
     "text": [
      "[[ 2.00809858  3.60130047]\n",
      " [-2.39493049 -0.27667104]\n",
      " [-2.75216415  0.07836151]\n",
      " [-2.8722492  -0.43271526]\n",
      " [-3.12252695 -0.82772163]\n",
      " [ 1.63773577  2.69521734]\n",
      " [ 2.00809858  3.60130047]\n",
      " [-2.16112106 -1.32157971]\n",
      " [-2.75216415  0.07836151]\n",
      " [ 1.45001517 -2.34576084]\n",
      " [ 2.00809858  3.60130047]\n",
      " [ 3.51261166  0.08672784]\n",
      " [ 3.78738372  0.14297783]\n",
      " [ 3.71661704 -0.21291436]\n",
      " [ 1.82037797 -1.43967771]\n",
      " [-2.8722492  -0.43271526]\n",
      " [ 1.40392635  3.74012601]\n",
      " [-1.26932914  2.96323647]\n",
      " [ 1.45001517 -2.34576084]\n",
      " [ 2.11659835 -1.18272011]\n",
      " [-2.8722492  -0.43271526]\n",
      " [ 1.09612069 -1.81192894]\n",
      " [ 2.45117548 -2.3211553 ]\n",
      " [ 1.64427634  0.52356263]\n",
      " [ 1.64427634  0.52356263]\n",
      " [-1.78291285 -0.99024667]\n",
      " [-2.8722492  -0.43271526]\n",
      " [-2.57444156 -0.31578522]\n",
      " [ 2.86557291 -3.09575336]\n",
      " [-3.12252695 -0.82772163]\n",
      " [-2.44424885 -0.43185562]\n",
      " [ 2.2366834  -0.67164335]\n",
      " [ 1.88801353  3.0902237 ]\n",
      " [-2.51835473 -0.96654716]\n",
      " [-2.26807697 -0.5715408 ]\n",
      " [ 1.82037797 -1.43967771]\n",
      " [ 2.00809858  3.60130047]\n",
      " [ 1.88065905 -3.7224131 ]\n",
      " [ 2.1309368  -3.32740674]\n",
      " [ 1.40598053 -0.66507965]\n",
      " [ 2.98565796 -2.58467659]\n",
      " [ 1.70029292 -1.95075448]\n",
      " [-2.75216415  0.07836151]\n",
      " [-2.75216415  0.07836151]\n",
      " [ 3.71661704 -0.21291436]\n",
      " [-2.75216415  0.07836151]\n",
      " [-2.33585872  0.84639587]\n",
      " [-2.14799192 -0.06046403]\n",
      " [-2.75216415  0.07836151]\n",
      " [ 2.1309368  -3.32740674]\n",
      " [ 1.28704267  0.87859518]\n",
      " [ 3.04167813 -0.42998101]\n",
      " [-2.14799192 -0.06046403]\n",
      " [-2.8722492  -0.43271526]\n",
      " [ 0.68172326 -1.03733088]\n",
      " [ 1.45001517 -2.34576084]\n",
      " [ 1.21811373  0.24178025]\n",
      " [ 1.70029292 -1.95075448]\n",
      " [ 1.40392635  3.74012601]\n",
      " [ 2.00809858  3.60130047]\n",
      " [ 0.67238195  0.83073346]\n",
      " [-0.94105494  0.16609387]\n",
      " [-2.75216415  0.07836151]\n",
      " [-3.12252695 -0.82772163]\n",
      " [-1.26932914  2.96323647]\n",
      " [-2.75216415  0.07836151]\n",
      " [-3.00244191 -0.31664486]\n",
      " [-2.75216415  0.07836151]\n",
      " [-3.12252695 -0.82772163]\n",
      " [ 0.8018083  -0.52625411]\n",
      " [ 1.52870338 -1.78940673]\n",
      " [ 1.88801353  3.0902237 ]\n",
      " [-1.64673158  2.37655054]\n",
      " [-2.07473193  2.3756909 ]\n",
      " [ 0.86329301  2.45781734]\n",
      " [ 3.92891709  0.8547622 ]\n",
      " [ 2.2366834  -0.67164335]\n",
      " [ 2.2366834  -0.67164335]]\n"
     ]
    }
   ],
   "source": [
    "sc = StandardScaler() #\n",
    "X_train1 = sc.fit_transform(xtrain1)\n",
    "X_test1 = sc.transform(xtest1)\n",
    "\n",
    "pca = PCA(n_components= 2)\n",
    "X_train1 = pca.fit_transform(X_train1)\n",
    "X_test1 = pca.transform(X_test1)\n",
    "#Printing few rows of X_train to show that the number of columns have now reduced to 2\n",
    "print(X_train1[1:])"
   ]
  },
  {
   "cell_type": "code",
   "execution_count": 113,
   "metadata": {},
   "outputs": [
    {
     "name": "stdout",
     "output_type": "stream",
     "text": [
      "\n",
      "Accuracy of SVM+PCA on predicting if animal is venomous :  0.9047619047619048\n",
      "\n",
      " Confusion Matrix:\n",
      " [[19  0]\n",
      " [ 2  0]]\n"
     ]
    }
   ],
   "source": [
    "classifier1 = SVC(kernel='rbf', random_state = 1) \n",
    "classifier1.fit(X_train1,ytrain1)\n",
    "Y_pred1 = classifier.predict(X_test1)\n",
    "cm = confusion_matrix(ytest1,Y_pred1)\n",
    "accuracy = float(cm.diagonal().sum())/len(ytest1)\n",
    "print(\"\\nAccuracy of SVM+PCA on predicting if animal is venomous : \", accuracy)\n",
    "print(\"\\n Confusion Matrix:\\n\",cm)\n"
   ]
  },
  {
   "cell_type": "markdown",
   "metadata": {},
   "source": [
    "***\n",
    "### 3. Predicting if an animal is a PREDATOR:"
   ]
  },
  {
   "cell_type": "code",
   "execution_count": 105,
   "metadata": {},
   "outputs": [],
   "source": [
    "d2 = mldata.drop(columns=['predator'])\n",
    "t2 = mldata[['predator']]\n",
    "xtrain2 = d2[1: int(0.8*len(d2))]\n",
    "ytrain2 = t2[1:int(0.8*len(t2))]\n",
    "xtest2 = d2[int((0.8*len(d2))): ]\n",
    "ytest2 = t2[int((0.8*len(d2))): ]"
   ]
  },
  {
   "cell_type": "code",
   "execution_count": 106,
   "metadata": {},
   "outputs": [],
   "source": [
    "sc = StandardScaler()\n",
    "X_train2 = sc.fit_transform(xtrain2)\n",
    "X_test2 = sc.transform(xtest2)\n",
    "\n",
    "pca = PCA(n_components= 2)\n",
    "X_train2 = pca.fit_transform(X_train2)\n",
    "X_test2 = pca.transform(X_test2)\n"
   ]
  },
  {
   "cell_type": "code",
   "execution_count": 114,
   "metadata": {},
   "outputs": [
    {
     "name": "stdout",
     "output_type": "stream",
     "text": [
      "\n",
      "Accuracy of SVM+PCA on predicting if animal is predatory :  0.6666666666666666\n",
      "\n",
      " Confusion Matrix:\n",
      " [[14  0]\n",
      " [ 7  0]]\n"
     ]
    }
   ],
   "source": [
    "classifier2 = SVC(kernel='rbf', random_state = 1) \n",
    "classifier2.fit(X_train2,ytrain2)\n",
    "Y_pred2 = classifier.predict(X_test2)\n",
    "cm = confusion_matrix(ytest2,Y_pred2)\n",
    "accuracy = float(cm.diagonal().sum())/len(ytest2)\n",
    "print(\"\\nAccuracy of SVM+PCA on predicting if animal is predatory : \", accuracy)\n",
    "print(\"\\n Confusion Matrix:\\n\",cm)\n"
   ]
  },
  {
   "cell_type": "markdown",
   "metadata": {},
   "source": [
    "***\n",
    "### 3. Predicting if an animal is DOMESTIC:"
   ]
  },
  {
   "cell_type": "code",
   "execution_count": 108,
   "metadata": {},
   "outputs": [],
   "source": [
    "d3 = mldata.drop(columns=['domestic'])\n",
    "t3 = mldata[['domestic']]\n",
    "xtrain3 = d3[1: int(0.8*len(d3))]\n",
    "ytrain3 = t3[1:int(0.8*len(t3))]\n",
    "xtest3 = d3[int((0.8*len(d3))): ]\n",
    "ytest3 = t3[int((0.8*len(d3))): ]"
   ]
  },
  {
   "cell_type": "code",
   "execution_count": 109,
   "metadata": {},
   "outputs": [],
   "source": [
    "sc = StandardScaler()\n",
    "X_train3 = sc.fit_transform(xtrain3)\n",
    "X_test3 = sc.transform(xtest3)\n",
    "\n",
    "pca = PCA(n_components= 2)\n",
    "X_train3 = pca.fit_transform(X_train3)\n",
    "X_test3 = pca.transform(X_test3)\n"
   ]
  },
  {
   "cell_type": "code",
   "execution_count": 115,
   "metadata": {},
   "outputs": [
    {
     "name": "stdout",
     "output_type": "stream",
     "text": [
      "\n",
      "Accuracy of SVM+PCA on predicting if animal is domestic :  1.0\n",
      "\n",
      " Confusion Matrix:\n",
      " [[21]]\n"
     ]
    }
   ],
   "source": [
    "classifier3 = SVC(kernel='rbf', random_state = 1) \n",
    "classifier3.fit(X_train3,ytrain3)\n",
    "Y_pred3 = classifier.predict(X_test3)\n",
    "cm = confusion_matrix(ytest3,Y_pred3)\n",
    "accuracy = float(cm.diagonal().sum())/len(ytest3)\n",
    "print(\"\\nAccuracy of SVM+PCA on predicting if animal is domestic : \", accuracy)\n",
    "print(\"\\n Confusion Matrix:\\n\",cm)"
   ]
  },
  {
   "cell_type": "code",
   "execution_count": null,
   "metadata": {},
   "outputs": [],
   "source": []
  }
 ],
 "metadata": {
  "kernelspec": {
   "display_name": "Python 3",
   "language": "python",
   "name": "python3"
  },
  "language_info": {
   "codemirror_mode": {
    "name": "ipython",
    "version": 3
   },
   "file_extension": ".py",
   "mimetype": "text/x-python",
   "name": "python",
   "nbconvert_exporter": "python",
   "pygments_lexer": "ipython3",
   "version": "3.7.7"
  }
 },
 "nbformat": 4,
 "nbformat_minor": 2
}
